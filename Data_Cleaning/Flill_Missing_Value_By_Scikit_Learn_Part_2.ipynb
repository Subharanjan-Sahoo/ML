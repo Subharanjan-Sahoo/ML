{
 "cells": [
  {
   "cell_type": "markdown",
   "source": [
    "# Data Cleaning\r\n",
    "# Missing Value imputation using Scikit-Learn\r\n",
    "# Different straegy for different variable(Numberical & Categorical)With scikit-Learn"
   ],
   "metadata": {}
  },
  {
   "cell_type": "code",
   "execution_count": 2,
   "source": [
    "import numpy as np\r\n",
    "import pandas as pd\r\n",
    "from sklearn.impute import SimpleImputer\r\n",
    "from sklearn.compose import ColumnTransformer\r\n",
    "from sklearn.pipeline import Pipeline"
   ],
   "outputs": [],
   "metadata": {}
  },
  {
   "cell_type": "code",
   "execution_count": 3,
   "source": [
    "train = pd.read_csv(r\"E:\\\\ML\\Data_Cleaning\\\\train.csv\")\r\n",
    "test  = pd.read_csv(r\"E:\\\\ML\\Data_Cleaning\\\\test.csv\")\r\n",
    "print(\"shape of train df = \",train.shape)\r\n",
    "print(\"shape of train df = \",test.shape)"
   ],
   "outputs": [
    {
     "output_type": "stream",
     "name": "stdout",
     "text": [
      "shape of train df =  (1460, 81)\n",
      "shape of train df =  (1459, 80)\n"
     ]
    }
   ],
   "metadata": {}
  },
  {
   "cell_type": "code",
   "execution_count": 4,
   "source": [
    "X_train = train.drop(columns=\"SalePrice\")\r\n",
    "y_train = train[\"SalePrice\"]\r\n",
    "X_train = test.copy()\r\n",
    "print(\"shape of train df = \",X_train.shape)\r\n",
    "print(\"shape of train df = \",y_train.shape)\r\n",
    "print(\"shape of x_test = \",X_train.shape)"
   ],
   "outputs": [
    {
     "output_type": "stream",
     "name": "stdout",
     "text": [
      "shape of train df =  (1459, 80)\n",
      "shape of train df =  (1460,)\n",
      "shape of x_test =  (1459, 80)\n"
     ]
    }
   ],
   "metadata": {}
  },
  {
   "cell_type": "markdown",
   "source": [
    "# Missing Value Imputation"
   ],
   "metadata": {}
  },
  {
   "cell_type": "code",
   "execution_count": 6,
   "source": [
    "is_null_sum = X_train.isnull().sum()\r\n",
    "is_null_sum"
   ],
   "outputs": [
    {
     "output_type": "execute_result",
     "data": {
      "text/plain": [
       "Id                 0\n",
       "MSSubClass         0\n",
       "MSZoning           4\n",
       "LotFrontage      227\n",
       "LotArea            0\n",
       "                ... \n",
       "MiscVal            0\n",
       "MoSold             0\n",
       "YrSold             0\n",
       "SaleType           1\n",
       "SaleCondition      0\n",
       "Length: 80, dtype: int64"
      ]
     },
     "metadata": {},
     "execution_count": 6
    }
   ],
   "metadata": {}
  },
  {
   "cell_type": "code",
   "execution_count": 8,
   "source": [
    "num_vars = X_train.select_dtypes(include=[\"int64\",\"float64\"]).columns\r\n",
    "num_vars_miss = [var for var in num_vars if is_null_sum[var]>0]"
   ],
   "outputs": [],
   "metadata": {}
  },
  {
   "cell_type": "code",
   "execution_count": 10,
   "source": [
    "num_vars_miss"
   ],
   "outputs": [
    {
     "output_type": "execute_result",
     "data": {
      "text/plain": [
       "['LotFrontage',\n",
       " 'MasVnrArea',\n",
       " 'BsmtFinSF1',\n",
       " 'BsmtFinSF2',\n",
       " 'BsmtUnfSF',\n",
       " 'TotalBsmtSF',\n",
       " 'BsmtFullBath',\n",
       " 'BsmtHalfBath',\n",
       " 'GarageYrBlt',\n",
       " 'GarageCars',\n",
       " 'GarageArea']"
      ]
     },
     "metadata": {},
     "execution_count": 10
    }
   ],
   "metadata": {}
  },
  {
   "cell_type": "code",
   "execution_count": null,
   "source": [
    "cat_vars "
   ],
   "outputs": [],
   "metadata": {}
  }
 ],
 "metadata": {
  "orig_nbformat": 4,
  "language_info": {
   "name": "python",
   "version": "3.7.4",
   "mimetype": "text/x-python",
   "codemirror_mode": {
    "name": "ipython",
    "version": 3
   },
   "pygments_lexer": "ipython3",
   "nbconvert_exporter": "python",
   "file_extension": ".py"
  },
  "kernelspec": {
   "name": "python3",
   "display_name": "Python 3.7.4 32-bit"
  },
  "interpreter": {
   "hash": "89e03c51c5aed9a96688c7f4caa01620143a76aa5cce533d78011c0d0451c0d2"
  }
 },
 "nbformat": 4,
 "nbformat_minor": 2
}