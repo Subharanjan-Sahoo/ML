{
 "cells": [
  {
   "cell_type": "markdown",
   "source": [
    "# Missing Value (part - 1)"
   ],
   "metadata": {}
  },
  {
   "cell_type": "markdown",
   "source": [
    "# What is missing Value / Data ? "
   ],
   "metadata": {}
  },
  {
   "cell_type": "markdown",
   "source": [
    "# In the variable or any observation , values are not stored called as missing value/data.  "
   ],
   "metadata": {}
  },
  {
   "cell_type": "markdown",
   "source": [
    "# what are the Methods to Handle Missing Values ? \r\n",
    "# ------------------------------------------------"
   ],
   "metadata": {}
  },
  {
   "cell_type": "markdown",
   "source": [
    "# - Ignore missing value row / Delete row .\r\n",
    "# - Fill missing value manually .\r\n",
    "# - Global constant . \r\n",
    "# - Measure of Central tendency (Mean ,Midian & Mode)\r\n",
    "# - Measure of Central tendency for each class\r\n",
    "# - Most probable value (ML Algorithms)  (Linear regg , Decision Tree)"
   ],
   "metadata": {}
  },
  {
   "cell_type": "markdown",
   "source": [],
   "metadata": {}
  }
 ],
 "metadata": {
  "orig_nbformat": 4,
  "language_info": {
   "name": "python",
   "version": "3.7.4",
   "mimetype": "text/x-python",
   "codemirror_mode": {
    "name": "ipython",
    "version": 3
   },
   "pygments_lexer": "ipython3",
   "nbconvert_exporter": "python",
   "file_extension": ".py"
  },
  "kernelspec": {
   "name": "python3",
   "display_name": "Python 3.7.4 32-bit"
  },
  "interpreter": {
   "hash": "89e03c51c5aed9a96688c7f4caa01620143a76aa5cce533d78011c0d0451c0d2"
  }
 },
 "nbformat": 4,
 "nbformat_minor": 2
}