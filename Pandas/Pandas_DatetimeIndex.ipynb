{
 "cells": [
  {
   "cell_type": "markdown",
   "source": [
    "# Pandas DatetimeIndex (Part - 16)"
   ],
   "metadata": {}
  },
  {
   "cell_type": "markdown",
   "source": [
    "# df. =pd.read_csv('------------------------------.csv' parse_dates= ['Column name'])"
   ],
   "metadata": {}
  },
  {
   "cell_type": "markdown",
   "source": [
    "# tyrpe(df.Data[0])"
   ],
   "metadata": {}
  },
  {
   "cell_type": "code",
   "execution_count": null,
   "source": [],
   "outputs": [],
   "metadata": {}
  }
 ],
 "metadata": {
  "orig_nbformat": 4,
  "language_info": {
   "name": "python",
   "version": "3.7.4",
   "mimetype": "text/x-python",
   "codemirror_mode": {
    "name": "ipython",
    "version": 3
   },
   "pygments_lexer": "ipython3",
   "nbconvert_exporter": "python",
   "file_extension": ".py"
  },
  "kernelspec": {
   "name": "python3",
   "display_name": "Python 3.7.4 32-bit"
  },
  "interpreter": {
   "hash": "89e03c51c5aed9a96688c7f4caa01620143a76aa5cce533d78011c0d0451c0d2"
  }
 },
 "nbformat": 4,
 "nbformat_minor": 2
}